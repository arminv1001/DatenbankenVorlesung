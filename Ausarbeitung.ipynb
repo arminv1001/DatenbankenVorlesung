{
 "cells": [
  {
   "cell_type": "code",
   "execution_count": 82,
   "metadata": {
    "collapsed": true
   },
   "outputs": [],
   "source": [
    "import pandas as pd\n",
    "import numpy as np\n",
    "import matplotlib.pyplot as plt"
   ]
  },
  {
   "cell_type": "code",
   "execution_count": 83,
   "outputs": [
    {
     "name": "stdout",
     "output_type": "stream",
     "text": [
      "           Date       Open       High        Low      Close  Adj Close  Volume\n",
      "0    2011-01-01  13.220000  13.280000  12.910000  12.910000  12.910000   48862\n",
      "1    2011-02-01  12.980000  13.600000  12.970000  13.600000  13.600000  416484\n",
      "2    2011-03-01  13.640000  13.650000  12.890000  13.410000  13.410000  757740\n",
      "3    2011-04-01  13.540000  13.950000  13.240000  13.950000  13.950000  366652\n",
      "4    2011-05-01  14.060000  14.420000  13.690000  14.420000  14.420000  486150\n",
      "..          ...        ...        ...        ...        ...        ...     ...\n",
      "121  2021-02-01  26.545000  27.200001  25.915001  26.285000  26.285000  387010\n",
      "122  2021-03-01  26.540001  27.655001  26.379999  27.254999  27.254999  421132\n",
      "123  2021-04-01  27.375000  28.955000  27.280001  28.504999  28.504999  222300\n",
      "124  2021-05-01  28.610001  29.885000  28.049999  29.639999  29.639999  242760\n",
      "125  2021-06-01  29.850000  31.055000  29.775000  29.900000  29.900000  164562\n",
      "\n",
      "[126 rows x 7 columns]\n",
      "           Date        Open        High         Low       Close   Adj Close  \\\n",
      "0    2011-01-01  119.889999    0.000000    0.000000  118.720001  118.720001   \n",
      "1    2011-02-01  120.010002    0.000000    0.000000  121.930000  121.930000   \n",
      "2    2011-03-01  120.820000    0.000000    0.000000  117.470001  117.470001   \n",
      "3    2011-04-01  118.430000    0.000000    0.000000  117.120003  117.120003   \n",
      "4    2011-05-01  116.970001    0.000000    0.000000  118.349998  118.349998   \n",
      "..          ...         ...         ...         ...         ...         ...   \n",
      "121  2021-02-01  332.570007  352.931610  332.000000  341.045685  341.045685   \n",
      "122  2021-03-01  344.170013  362.190002  337.309998  361.630005  361.630005   \n",
      "123  2021-04-01  362.700012  372.088593  362.165894  369.027893  369.027893   \n",
      "124  2021-05-01  369.976501  371.709991  355.790985  367.871307  367.871307   \n",
      "125  2021-06-01  369.153992  385.850006  367.809998  384.967804  384.967804   \n",
      "\n",
      "     Volume  \n",
      "0         0  \n",
      "1         0  \n",
      "2         0  \n",
      "3         0  \n",
      "4         0  \n",
      "..      ...  \n",
      "121  142943  \n",
      "122  182509  \n",
      "123  211972  \n",
      "124  120386  \n",
      "125  164252  \n",
      "\n",
      "[126 rows x 7 columns]\n",
      "           Date       Open       High        Low      Close  Adj Close  Volume\n",
      "0    2011-01-01  16.969999  17.280001  16.830000  16.830000  16.830000   51646\n",
      "1    2011-02-01  16.930000  17.350000  16.879999  17.160000  17.160000  130828\n",
      "2    2011-03-01  17.180000  17.180000  15.610000  16.280001  16.280001  103568\n",
      "3    2011-04-01  16.330000  16.420000  15.960000  16.209999  16.209999   81433\n",
      "4    2011-05-01  16.340000  16.559999  16.010000  16.250000  16.250000   84742\n",
      "..          ...        ...        ...        ...        ...        ...     ...\n",
      "121  2021-02-01  24.350000  25.225000  24.055000  24.160000  24.160000  567612\n",
      "122  2021-03-01  24.155001  26.715000  24.030001  26.485001  26.485001  533088\n",
      "123  2021-04-01  26.545000  26.700001  26.180000  26.590000  26.590000  577891\n",
      "124  2021-05-01  26.750000  26.990000  25.825001  26.295000  26.295000  618390\n",
      "125  2021-06-01  26.355000  27.309999  26.305000  26.805000  26.805000  420448\n",
      "\n",
      "[126 rows x 7 columns]\n",
      "           Date        Open        High         Low       Close   Adj Close  \\\n",
      "0    2011-01-01  166.419998  167.619995  164.770004  165.460007  165.460007   \n",
      "1    2011-02-01  165.300003  166.250000  164.300003  165.410004  165.410004   \n",
      "2    2011-03-01  165.429993  167.089996  163.960007  164.270004  164.270004   \n",
      "3    2011-04-01  164.210007  165.250000  163.770004  165.250000  165.250000   \n",
      "4    2011-05-01  164.600006  167.300003  164.539993  166.940002  166.940002   \n",
      "..          ...         ...         ...         ...         ...         ...   \n",
      "121  2021-02-01  256.989990  257.089996  250.449997  251.649994  251.649994   \n",
      "122  2021-03-01  252.490005  253.910004  251.199997  252.119995  252.119995   \n",
      "123  2021-04-01  252.270004  252.880005  249.199997  249.589996  249.589996   \n",
      "124  2021-05-01  249.770004  250.490005  246.110001  249.440002  249.440002   \n",
      "125  2021-06-01  249.259995  251.399994  248.910004  250.470001  250.470001   \n",
      "\n",
      "     Volume  \n",
      "0    223498  \n",
      "1    216702  \n",
      "2    427159  \n",
      "3    137496  \n",
      "4    189926  \n",
      "..      ...  \n",
      "121  192525  \n",
      "122  259536  \n",
      "123  220863  \n",
      "124  127363  \n",
      "125  142877  \n",
      "\n",
      "[126 rows x 7 columns]\n",
      "           Date        Open        High         Low       Close   Adj Close  \\\n",
      "0    2011-01-01  113.440002  113.830002  113.050003  113.489998  113.489998   \n",
      "1    2011-02-01  113.379997  114.660004  113.379997  114.430000  114.430000   \n",
      "2    2011-03-01  114.449997  114.690002  113.599998  114.150002  114.150002   \n",
      "3    2011-04-01  114.089996  114.820000  113.339996  114.709999  114.709999   \n",
      "4    2011-05-01  114.709999  116.220001  114.360001  116.110001  116.110001   \n",
      "..          ...         ...         ...         ...         ...         ...   \n",
      "121  2021-02-01  135.500000  136.350006  134.029999  134.389999  134.389999   \n",
      "122  2021-03-01  134.509995  135.270004  134.020004  135.039993  135.039993   \n",
      "123  2021-04-01  134.889999  135.610001  134.360001  134.789993  134.789993   \n",
      "124  2021-05-01  134.789993  135.339996  133.589996  134.514999  134.514999   \n",
      "125  2021-06-01  134.520004  135.369995  134.410004  135.029999  135.029999   \n",
      "\n",
      "      Volume  \n",
      "0     267444  \n",
      "1      86423  \n",
      "2      78064  \n",
      "3     271282  \n",
      "4     381733  \n",
      "..       ...  \n",
      "121  2211292  \n",
      "122  1742672  \n",
      "123  2057039  \n",
      "124  1479329  \n",
      "125  1470947  \n",
      "\n",
      "[126 rows x 7 columns]\n"
     ]
    }
   ],
   "source": [
    "immo = pd.read_csv(\".\\Resources\\Xtrackers_FTSE_Developed_Europe_Real_Estate_UCITS_ETF_1C.csv\")\n",
    "print(immo)\n",
    "\n",
    "Aktien = pd.read_csv(\".\\Resources\\LU1681043599.csv\")\n",
    "print(Aktien)\n",
    "\n",
    "Infrastruktur = pd.read_csv(\".\\Resources\\iShares_Global_Infrastructure_UCITS_ETF.csv\")\n",
    "print(Infrastruktur)\n",
    "\n",
    "Staatsanleihen = pd.read_csv(\".\\Resources\\Xtrackers_II_-_Eurozone_Government_Bond_UCITS_ETF.csv\")\n",
    "print(Staatsanleihen)\n",
    "\n",
    "Unternehmensanleihen = pd.read_csv(\".\\Resources\\iShares_Core_Euro_Corp_Bond_UCITS_ETF_EUR.csv\")\n",
    "print(Unternehmensanleihen)"
   ],
   "metadata": {
    "collapsed": false,
    "pycharm": {
     "name": "#%%\n"
    }
   }
  },
  {
   "cell_type": "code",
   "execution_count": 84,
   "outputs": [],
   "source": [
    "def perfBerechung(a, b):\n",
    "    return (b / a) - 1\n",
    "\n",
    "\n",
    "def Jahresperformance(df):\n",
    "    adj_close = df[\"Adj Close\"].tolist()\n",
    "    jahres_pf = []\n",
    "    for index in range(0, len(adj_close)-12):\n",
    "        jahres_pf.append(perfBerechung(adj_close[index], adj_close[index + 12]))\n",
    "    return jahres_pf\n",
    "\n",
    "\n",
    "def BondJahresperformance(SA, UA):\n",
    "    jahrP_SA = Jahresperformance(SA)\n",
    "    jahrP_UA = Jahresperformance(UA)\n",
    "    jahrP_bond = [(0.75*sa)+(0.25*ua) for sa,ua in zip(jahrP_SA,jahrP_UA)]\n",
    "    return jahrP_bond\n"
   ],
   "metadata": {
    "collapsed": false,
    "pycharm": {
     "name": "#%%\n"
    }
   }
  },
  {
   "cell_type": "code",
   "execution_count": 85,
   "outputs": [],
   "source": [
    "immo_jahrP = Jahresperformance(immo)\n",
    "aktien_jahrP = Jahresperformance(Aktien)\n",
    "infrastruktur_jahrP = Jahresperformance(Infrastruktur)\n",
    "anleihen_jahrP = BondJahresperformance(Staatsanleihen, Unternehmensanleihen)\n"
   ],
   "metadata": {
    "collapsed": false,
    "pycharm": {
     "name": "#%%\n"
    }
   }
  },
  {
   "cell_type": "code",
   "execution_count": 86,
   "outputs": [
    {
     "name": "stdout",
     "output_type": "stream",
     "text": [
      "     Immobilien    Aktien  Infrastruktur  Anleihen\n",
      "0     -0.050349  0.012803      -0.035651  0.044996\n",
      "1     -0.091176  0.011892      -0.048368  0.061465\n",
      "2     -0.038777  0.068273       0.017199  0.069293\n",
      "3     -0.078136  0.065659       0.017890  0.062716\n",
      "4     -0.111650  0.031348       0.028308  0.061305\n",
      "..          ...       ...            ...       ...\n",
      "109   -0.089224  0.193081      -0.071126 -0.004671\n",
      "110    0.212951  0.418268       0.140857  0.031772\n",
      "111    0.222603  0.321516       0.082434  0.015408\n",
      "112    0.254869  0.286996       0.053908  0.009667\n",
      "113    0.247393  0.324051       0.109478  0.003209\n",
      "\n",
      "[114 rows x 4 columns]\n"
     ]
    }
   ],
   "source": [
    "df_jahrP = pd.DataFrame({\n",
    "    'Immobilien': immo_jahrP,\n",
    "    'Aktien': aktien_jahrP,\n",
    "    'Infrastruktur': infrastruktur_jahrP,\n",
    "    'Anleihen': anleihen_jahrP\n",
    "})"
   ],
   "metadata": {
    "collapsed": false,
    "pycharm": {
     "name": "#%%\n"
    }
   }
  },
  {
   "cell_type": "markdown",
   "source": [
    "## Erwartungswert"
   ],
   "metadata": {
    "collapsed": false,
    "pycharm": {
     "name": "#%% md\n"
    }
   }
  },
  {
   "cell_type": "code",
   "execution_count": 91,
   "outputs": [
    {
     "data": {
      "text/plain": "Immobilien       0.136271\nAktien           0.100077\nInfrastruktur    0.104790\nAnleihen         0.037594\ndtype: float64"
     },
     "execution_count": 91,
     "metadata": {},
     "output_type": "execute_result"
    }
   ],
   "source": [
    "df_jahrP.std(ddof=0)"
   ],
   "metadata": {
    "collapsed": false,
    "pycharm": {
     "name": "#%%\n"
    }
   }
  },
  {
   "cell_type": "code",
   "execution_count": 92,
   "outputs": [
    {
     "data": {
      "text/plain": "               Immobilien  Aktien  Infrastruktur  Anleihen\nImmobilien         1.0000  0.7414         0.5621    0.4706\nAktien             0.7414  1.0000         0.6316    0.3037\nInfrastruktur      0.5621  0.6316         1.0000    0.5522\nAnleihen           0.4706  0.3037         0.5522    1.0000",
      "text/html": "<div>\n<style scoped>\n    .dataframe tbody tr th:only-of-type {\n        vertical-align: middle;\n    }\n\n    .dataframe tbody tr th {\n        vertical-align: top;\n    }\n\n    .dataframe thead th {\n        text-align: right;\n    }\n</style>\n<table border=\"1\" class=\"dataframe\">\n  <thead>\n    <tr style=\"text-align: right;\">\n      <th></th>\n      <th>Immobilien</th>\n      <th>Aktien</th>\n      <th>Infrastruktur</th>\n      <th>Anleihen</th>\n    </tr>\n  </thead>\n  <tbody>\n    <tr>\n      <th>Immobilien</th>\n      <td>1.0000</td>\n      <td>0.7414</td>\n      <td>0.5621</td>\n      <td>0.4706</td>\n    </tr>\n    <tr>\n      <th>Aktien</th>\n      <td>0.7414</td>\n      <td>1.0000</td>\n      <td>0.6316</td>\n      <td>0.3037</td>\n    </tr>\n    <tr>\n      <th>Infrastruktur</th>\n      <td>0.5621</td>\n      <td>0.6316</td>\n      <td>1.0000</td>\n      <td>0.5522</td>\n    </tr>\n    <tr>\n      <th>Anleihen</th>\n      <td>0.4706</td>\n      <td>0.3037</td>\n      <td>0.5522</td>\n      <td>1.0000</td>\n    </tr>\n  </tbody>\n</table>\n</div>"
     },
     "execution_count": 92,
     "metadata": {},
     "output_type": "execute_result"
    }
   ],
   "source": [
    "df_jahrP.corr().round(4)"
   ],
   "metadata": {
    "collapsed": false,
    "pycharm": {
     "name": "#%%\n"
    }
   }
  },
  {
   "cell_type": "code",
   "execution_count": 94,
   "outputs": [
    {
     "data": {
      "text/plain": "Immobilien       0.086326\nAktien           0.123459\nInfrastruktur    0.051368\nAnleihen         0.038911\ndtype: float64"
     },
     "execution_count": 94,
     "metadata": {},
     "output_type": "execute_result"
    }
   ],
   "source": [
    "df_jahrP.mean()\n"
   ],
   "metadata": {
    "collapsed": false,
    "pycharm": {
     "name": "#%%\n"
    }
   }
  },
  {
   "cell_type": "markdown",
   "source": [
    "# Z-wert 95% 1,645 / Zwert 99% 2,326"
   ],
   "metadata": {
    "collapsed": false
   }
  }
 ],
 "metadata": {
  "kernelspec": {
   "display_name": "Python 3",
   "language": "python",
   "name": "python3"
  },
  "language_info": {
   "codemirror_mode": {
    "name": "ipython",
    "version": 2
   },
   "file_extension": ".py",
   "mimetype": "text/x-python",
   "name": "python",
   "nbconvert_exporter": "python",
   "pygments_lexer": "ipython2",
   "version": "2.7.6"
  }
 },
 "nbformat": 4,
 "nbformat_minor": 0
}